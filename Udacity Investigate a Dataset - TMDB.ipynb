{
 "cells": [
  {
   "cell_type": "markdown",
   "metadata": {},
   "source": [
    "# Project: Investigate a Dataset - TMDB \n",
    "\n",
    "<ul>\n",
    "<li><a href=\"#intro\">Introduction</a></li>\n",
    "<li><a href=\"#wrangling\">Data Wrangling</a></li>\n",
    "<li><a href=\"#eda\">Exploratory Data Analysis</a></li>\n",
    "<li><a href=\"#conclusions\">Conclusions</a></li>\n",
    "</ul>"
   ]
  },
  {
   "cell_type": "markdown",
   "metadata": {},
   "source": [
    "<a id='intro'></a>\n",
    "## Introduction\n",
    "\n",
    "> I choose the TMDB dataset to do the analysis.\n",
    ">\n",
    "> This dataset contains information about 10,000 movies collected from The Movie Database (TMDb), like budget, revenue, cast, director and average vote scores ect.\n",
    ">\n",
    "> Here is the details of the dataset：https://www.kaggle.com/datasets/tmdb/tmdb-movie-metadata\n",
    ">\n",
    "> I want to find the answer for 2 questions below:\n",
    "> \n",
    "> (1) What kinds of properties are associated with movies that have high revenues?\n",
    ">\n",
    "> (2) Which genres are most popular from year to year?\n"
   ]
  },
  {
   "cell_type": "code",
   "execution_count": 1,
   "metadata": {},
   "outputs": [],
   "source": [
    "# tmdb_movies.csv cannot be read by UTF-8\n",
    "# use encoding = 'unicode_escape' to read the dataset"
   ]
  },
  {
   "cell_type": "code",
   "execution_count": 124,
   "metadata": {
    "scrolled": true
   },
   "outputs": [],
   "source": [
    "import pandas as pd\n",
    "import numpy as np\n",
    "import matplotlib.pyplot as plt\n",
    "import seaborn as sns\n",
    "%matplotlib inline\n",
    "\n",
    "df = pd.read_csv('tmdb_movies.csv', encoding= 'unicode_escape', index_col = 'id')"
   ]
  },
  {
   "cell_type": "markdown",
   "metadata": {},
   "source": [
    "<a id='wrangling'></a>\n",
    "## Data Wrangling\n",
    "\n",
    "### General Properties"
   ]
  },
  {
   "cell_type": "code",
   "execution_count": 125,
   "metadata": {
    "scrolled": true
   },
   "outputs": [
    {
     "data": {
      "text/html": [
       "<div>\n",
       "<style scoped>\n",
       "    .dataframe tbody tr th:only-of-type {\n",
       "        vertical-align: middle;\n",
       "    }\n",
       "\n",
       "    .dataframe tbody tr th {\n",
       "        vertical-align: top;\n",
       "    }\n",
       "\n",
       "    .dataframe thead th {\n",
       "        text-align: right;\n",
       "    }\n",
       "</style>\n",
       "<table border=\"1\" class=\"dataframe\">\n",
       "  <thead>\n",
       "    <tr style=\"text-align: right;\">\n",
       "      <th></th>\n",
       "      <th>imdb_id</th>\n",
       "      <th>popularity</th>\n",
       "      <th>budget</th>\n",
       "      <th>revenue</th>\n",
       "      <th>original_title</th>\n",
       "      <th>cast</th>\n",
       "      <th>homepage</th>\n",
       "      <th>director</th>\n",
       "      <th>tagline</th>\n",
       "      <th>keywords</th>\n",
       "      <th>...</th>\n",
       "      <th>Unnamed: 21</th>\n",
       "      <th>Unnamed: 22</th>\n",
       "      <th>Unnamed: 23</th>\n",
       "      <th>Unnamed: 24</th>\n",
       "      <th>Unnamed: 25</th>\n",
       "      <th>Unnamed: 26</th>\n",
       "      <th>Unnamed: 27</th>\n",
       "      <th>Unnamed: 28</th>\n",
       "      <th>Unnamed: 29</th>\n",
       "      <th>Unnamed: 30</th>\n",
       "    </tr>\n",
       "    <tr>\n",
       "      <th>id</th>\n",
       "      <th></th>\n",
       "      <th></th>\n",
       "      <th></th>\n",
       "      <th></th>\n",
       "      <th></th>\n",
       "      <th></th>\n",
       "      <th></th>\n",
       "      <th></th>\n",
       "      <th></th>\n",
       "      <th></th>\n",
       "      <th></th>\n",
       "      <th></th>\n",
       "      <th></th>\n",
       "      <th></th>\n",
       "      <th></th>\n",
       "      <th></th>\n",
       "      <th></th>\n",
       "      <th></th>\n",
       "      <th></th>\n",
       "      <th></th>\n",
       "      <th></th>\n",
       "    </tr>\n",
       "  </thead>\n",
       "  <tbody>\n",
       "    <tr>\n",
       "      <th>135397</th>\n",
       "      <td>tt0369610</td>\n",
       "      <td>32.985763</td>\n",
       "      <td>150000000</td>\n",
       "      <td>1513528810</td>\n",
       "      <td>Jurassic World</td>\n",
       "      <td>Chris Pratt|Bryce Dallas Howard|Irrfan Khan|Vi...</td>\n",
       "      <td>http://www.jurassicworld.com/</td>\n",
       "      <td>Colin Trevorrow</td>\n",
       "      <td>The park is open.</td>\n",
       "      <td>monster|dna|tyrannosaurus rex|velociraptor|island</td>\n",
       "      <td>...</td>\n",
       "      <td>NaN</td>\n",
       "      <td>NaN</td>\n",
       "      <td>NaN</td>\n",
       "      <td>NaN</td>\n",
       "      <td>NaN</td>\n",
       "      <td>NaN</td>\n",
       "      <td>NaN</td>\n",
       "      <td>NaN</td>\n",
       "      <td>NaN</td>\n",
       "      <td>NaN</td>\n",
       "    </tr>\n",
       "  </tbody>\n",
       "</table>\n",
       "<p>1 rows × 30 columns</p>\n",
       "</div>"
      ],
      "text/plain": [
       "          imdb_id  popularity     budget     revenue  original_title  \\\n",
       "id                                                                     \n",
       "135397  tt0369610   32.985763  150000000  1513528810  Jurassic World   \n",
       "\n",
       "                                                     cast  \\\n",
       "id                                                          \n",
       "135397  Chris Pratt|Bryce Dallas Howard|Irrfan Khan|Vi...   \n",
       "\n",
       "                             homepage         director            tagline  \\\n",
       "id                                                                          \n",
       "135397  http://www.jurassicworld.com/  Colin Trevorrow  The park is open.   \n",
       "\n",
       "                                                 keywords  ... Unnamed: 21  \\\n",
       "id                                                         ...               \n",
       "135397  monster|dna|tyrannosaurus rex|velociraptor|island  ...         NaN   \n",
       "\n",
       "       Unnamed: 22 Unnamed: 23 Unnamed: 24 Unnamed: 25 Unnamed: 26  \\\n",
       "id                                                                   \n",
       "135397         NaN         NaN         NaN         NaN         NaN   \n",
       "\n",
       "       Unnamed: 27 Unnamed: 28 Unnamed: 29 Unnamed: 30  \n",
       "id                                                      \n",
       "135397         NaN         NaN         NaN         NaN  \n",
       "\n",
       "[1 rows x 30 columns]"
      ]
     },
     "execution_count": 125,
     "metadata": {},
     "output_type": "execute_result"
    }
   ],
   "source": [
    "df.head(1)\n",
    "# There are several unnamed columns in the table"
   ]
  },
  {
   "cell_type": "code",
   "execution_count": 126,
   "metadata": {},
   "outputs": [
    {
     "name": "stdout",
     "output_type": "stream",
     "text": [
      "<class 'pandas.core.frame.DataFrame'>\n",
      "Int64Index: 10845 entries, 135397 to 22293\n",
      "Data columns (total 30 columns):\n",
      " #   Column                Non-Null Count  Dtype  \n",
      "---  ------                --------------  -----  \n",
      " 0   imdb_id               10835 non-null  object \n",
      " 1   popularity            10845 non-null  float64\n",
      " 2   budget                10845 non-null  int64  \n",
      " 3   revenue               10845 non-null  int64  \n",
      " 4   original_title        10845 non-null  object \n",
      " 5   cast                  10750 non-null  object \n",
      " 6   homepage              2953 non-null   object \n",
      " 7   director              10781 non-null  object \n",
      " 8   tagline               8035 non-null   object \n",
      " 9   keywords              9369 non-null   object \n",
      " 10  overview              10841 non-null  object \n",
      " 11  runtime               10844 non-null  object \n",
      " 12  genres                10815 non-null  object \n",
      " 13  production_companies  9831 non-null   object \n",
      " 14  release_date          10844 non-null  object \n",
      " 15  vote_count            10845 non-null  object \n",
      " 16  vote_average          10844 non-null  object \n",
      " 17  release_year          10845 non-null  object \n",
      " 18  budget_adj            10844 non-null  object \n",
      " 19  revenue_adj           10802 non-null  object \n",
      " 20  Unnamed: 21           17 non-null     object \n",
      " 21  Unnamed: 22           12 non-null     object \n",
      " 22  Unnamed: 23           8 non-null      object \n",
      " 23  Unnamed: 24           4 non-null      object \n",
      " 24  Unnamed: 25           4 non-null      object \n",
      " 25  Unnamed: 26           3 non-null      float64\n",
      " 26  Unnamed: 27           3 non-null      float64\n",
      " 27  Unnamed: 28           2 non-null      float64\n",
      " 28  Unnamed: 29           2 non-null      float64\n",
      " 29  Unnamed: 30           1 non-null      float64\n",
      "dtypes: float64(6), int64(2), object(22)\n",
      "memory usage: 2.6+ MB\n"
     ]
    }
   ],
   "source": [
    "df.info()\n",
    "# These unnamed columns are with few value counts\n",
    "# There are too many missing values in 'cast', 'homepage', 'tagline', 'keywords' and 'production_companies' to be dropped"
   ]
  },
  {
   "cell_type": "code",
   "execution_count": 127,
   "metadata": {},
   "outputs": [
    {
     "name": "stdout",
     "output_type": "stream",
     "text": [
      "[nan '7.6' '0' '2014' '117' '2009' '2010' '14540970.64' '159125670' '259'\n",
      " ' so it kidnaps the inventor and Joanna. Henry and Cody embark to save them and to bring down Kinetech.\"'\n",
      " '7020250.146' 'Hybrid' '113571068.7']\n",
      "[nan '2015' '0' 'Drama' '7114803.039' '4485768.267' '449076041.5' '7.2'\n",
      " '86' '1272921.117' '9/2/2013']\n",
      "[nan '13799993.93' '0' 'Avenue Picture' '31945805.12' '2013'\n",
      " 'Adventure|Drama|Family|Science Fiction' '10']\n",
      "[nan '33919845.96' '6/13/2014' '0' '2.4']\n",
      "[nan '12' '16273716.75' '4/1/2013' '2013']\n",
      "[ nan  5.5 16.   0. ]\n",
      "[   nan 2014.     5.3    0. ]\n",
      "[  nan    0. 2013.]\n",
      "[nan  0.]\n",
      "[nan  0.]\n"
     ]
    }
   ],
   "source": [
    "print(df['Unnamed: 21'].unique())\n",
    "print(df['Unnamed: 22'].unique())\n",
    "print(df['Unnamed: 23'].unique())\n",
    "print(df['Unnamed: 24'].unique())\n",
    "print(df['Unnamed: 25'].unique())\n",
    "print(df['Unnamed: 26'].unique())\n",
    "print(df['Unnamed: 27'].unique())\n",
    "print(df['Unnamed: 28'].unique())\n",
    "print(df['Unnamed: 29'].unique())\n",
    "print(df['Unnamed: 30'].unique())\n",
    "\n",
    "# These unnamed columns are with useless information and can be dropped"
   ]
  },
  {
   "cell_type": "code",
   "execution_count": 128,
   "metadata": {},
   "outputs": [
    {
     "name": "stdout",
     "output_type": "stream",
     "text": [
      "         imdb_id  popularity    budget  revenue original_title  \\\n",
      "id                                                               \n",
      "42194  tt0411951     0.59643  30000000   967000         TEKKEN   \n",
      "\n",
      "                                                    cast homepage  \\\n",
      "id                                                                  \n",
      "42194  Jon Foo|Kelly Overton|Cary-Hiroyuki Tagawa|Ian...      NaN   \n",
      "\n",
      "               director              tagline  \\\n",
      "id                                             \n",
      "42194  Dwight H. Little  Survival is no game   \n",
      "\n",
      "                                                keywords  ... Unnamed: 21  \\\n",
      "id                                                        ...               \n",
      "42194  martial arts|dystopia|based on video game|mart...  ...         NaN   \n",
      "\n",
      "      Unnamed: 22 Unnamed: 23 Unnamed: 24 Unnamed: 25 Unnamed: 26 Unnamed: 27  \\\n",
      "id                                                                              \n",
      "42194         NaN         NaN         NaN         NaN         NaN         NaN   \n",
      "\n",
      "      Unnamed: 28 Unnamed: 29 Unnamed: 30  \n",
      "id                                         \n",
      "42194         NaN         NaN         NaN  \n",
      "\n",
      "[1 rows x 30 columns]\n"
     ]
    }
   ],
   "source": [
    "print(df[(df.duplicated())])\n",
    "\n",
    "# There is one duplicated data to be deleted"
   ]
  },
  {
   "cell_type": "markdown",
   "metadata": {},
   "source": [
    "**Clean List：**\n",
    "> (1) Drop the duplicated rows\n",
    ">\n",
    "> (2) Drop the columns with many missing values, 'cast', 'homepage', 'tagline', 'keywords' and 'production_companies'\n",
    ">\n",
    "> (3) Drop the columns with unnames\n",
    ">\n",
    "> (4) Drop the null values in each columns\n",
    ">\n",
    "> (5) Make 'vote_count', 'revenue_adj', 'budget_adj', 'runtime' from string to int64\n",
    ">\n",
    "> (6) Make 'vote_average' from string to float64"
   ]
  },
  {
   "cell_type": "markdown",
   "metadata": {},
   "source": [
    "### Data Cleaning "
   ]
  },
  {
   "cell_type": "code",
   "execution_count": 129,
   "metadata": {},
   "outputs": [
    {
     "data": {
      "text/plain": [
       "(10844, 30)"
      ]
     },
     "execution_count": 129,
     "metadata": {},
     "output_type": "execute_result"
    }
   ],
   "source": [
    "# Drop the duplicated rows\n",
    "\n",
    "df.drop_duplicates(inplace = True)\n",
    "df.shape"
   ]
  },
  {
   "cell_type": "code",
   "execution_count": 130,
   "metadata": {},
   "outputs": [
    {
     "data": {
      "text/plain": [
       "(10844, 25)"
      ]
     },
     "execution_count": 130,
     "metadata": {},
     "output_type": "execute_result"
    }
   ],
   "source": [
    "# Drop the columns with many missing values, 'cast', 'homepage', 'tagline', 'keywords' and 'production_companies'\n",
    "\n",
    "df = df.drop(['cast', 'homepage', 'tagline', 'keywords', 'production_companies'], axis = 1)\n",
    "df.shape"
   ]
  },
  {
   "cell_type": "code",
   "execution_count": 131,
   "metadata": {},
   "outputs": [
    {
     "data": {
      "text/plain": [
       "(10844, 15)"
      ]
     },
     "execution_count": 131,
     "metadata": {},
     "output_type": "execute_result"
    }
   ],
   "source": [
    "# Drop the columns with unnames\n",
    "\n",
    "df = df.drop(['Unnamed: 21', 'Unnamed: 22', 'Unnamed: 23', 'Unnamed: 24', 'Unnamed: 25', 'Unnamed: 26', 'Unnamed: 27', 'Unnamed: 28', 'Unnamed: 29', 'Unnamed: 30'], axis = 1)\n",
    "df.shape"
   ]
  },
  {
   "cell_type": "code",
   "execution_count": 132,
   "metadata": {},
   "outputs": [
    {
     "data": {
      "text/plain": [
       "(10727, 15)"
      ]
     },
     "execution_count": 132,
     "metadata": {},
     "output_type": "execute_result"
    }
   ],
   "source": [
    "# Drop the null values in each columns\n",
    "df = df.dropna()\n",
    "df.shape"
   ]
  },
  {
   "cell_type": "code",
   "execution_count": 133,
   "metadata": {
    "scrolled": true
   },
   "outputs": [
    {
     "data": {
      "text/plain": [
       "(10717, 15)"
      ]
     },
     "execution_count": 133,
     "metadata": {},
     "output_type": "execute_result"
    }
   ],
   "source": [
    "# make vote_count and vote_average into int and float\n",
    "df['vote_count'] = df['vote_count'].str.extract('(\\d+)')\n",
    "df['vote_average'] = df['vote_average'].str.extract('(-?\\d+\\.?\\d*)')\n",
    "\n",
    "df = df.dropna()\n",
    "df.shape"
   ]
  },
  {
   "cell_type": "code",
   "execution_count": 134,
   "metadata": {
    "scrolled": true
   },
   "outputs": [
    {
     "name": "stdout",
     "output_type": "stream",
     "text": [
      "<class 'pandas.core.frame.DataFrame'>\n",
      "Int64Index: 10717 entries, 135397 to 22293\n",
      "Data columns (total 15 columns):\n",
      " #   Column          Non-Null Count  Dtype  \n",
      "---  ------          --------------  -----  \n",
      " 0   imdb_id         10717 non-null  object \n",
      " 1   popularity      10717 non-null  float64\n",
      " 2   budget          10717 non-null  int64  \n",
      " 3   revenue         10717 non-null  int64  \n",
      " 4   original_title  10717 non-null  object \n",
      " 5   director        10717 non-null  object \n",
      " 6   overview        10717 non-null  object \n",
      " 7   runtime         10717 non-null  object \n",
      " 8   genres          10717 non-null  object \n",
      " 9   release_date    10717 non-null  object \n",
      " 10  vote_count      10717 non-null  int64  \n",
      " 11  vote_average    10717 non-null  float64\n",
      " 12  release_year    10717 non-null  object \n",
      " 13  budget_adj      10717 non-null  object \n",
      " 14  revenue_adj     10717 non-null  object \n",
      "dtypes: float64(2), int64(3), object(10)\n",
      "memory usage: 1.3+ MB\n"
     ]
    }
   ],
   "source": [
    "df['vote_count'] = df['vote_count'].astype(np.int64)\n",
    "df['vote_average'] = df['vote_average'].astype(float)\n",
    "\n",
    "df.info()"
   ]
  },
  {
   "cell_type": "code",
   "execution_count": 135,
   "metadata": {},
   "outputs": [],
   "source": [
    "# Make budget_adj and revenue_adj into int64\n",
    "df['budget_adj'] = df['budget_adj'].str.extract('(\\d+)').round(0)\n",
    "df['revenue_adj'] = df['revenue_adj'].str.extract('(\\d+)').round(0)\n",
    "\n",
    "df = df.dropna()\n",
    "# some rows are string and they would be NaN after transfering into number\n",
    "# drop all the NaN rows"
   ]
  },
  {
   "cell_type": "code",
   "execution_count": 136,
   "metadata": {},
   "outputs": [
    {
     "name": "stdout",
     "output_type": "stream",
     "text": [
      "<class 'pandas.core.frame.DataFrame'>\n",
      "Int64Index: 10716 entries, 135397 to 22293\n",
      "Data columns (total 15 columns):\n",
      " #   Column          Non-Null Count  Dtype  \n",
      "---  ------          --------------  -----  \n",
      " 0   imdb_id         10716 non-null  object \n",
      " 1   popularity      10716 non-null  float64\n",
      " 2   budget          10716 non-null  int64  \n",
      " 3   revenue         10716 non-null  int64  \n",
      " 4   original_title  10716 non-null  object \n",
      " 5   director        10716 non-null  object \n",
      " 6   overview        10716 non-null  object \n",
      " 7   runtime         10716 non-null  object \n",
      " 8   genres          10716 non-null  object \n",
      " 9   release_date    10716 non-null  object \n",
      " 10  vote_count      10716 non-null  int64  \n",
      " 11  vote_average    10716 non-null  float64\n",
      " 12  release_year    10716 non-null  object \n",
      " 13  budget_adj      10716 non-null  int64  \n",
      " 14  revenue_adj     10716 non-null  int64  \n",
      "dtypes: float64(2), int64(5), object(8)\n",
      "memory usage: 1.3+ MB\n"
     ]
    }
   ],
   "source": [
    "df['budget_adj'] = df['budget_adj'].astype(np.int64)\n",
    "df['revenue_adj'] = df['revenue_adj'].astype(np.int64)\n",
    "\n",
    "df.info()"
   ]
  },
  {
   "cell_type": "code",
   "execution_count": 137,
   "metadata": {
    "scrolled": true
   },
   "outputs": [],
   "source": [
    "# Make runtime int64\n",
    "df['runtime'] = df['runtime'].str.extract('(\\d+)').round(0)\n",
    "df = df.dropna()\n",
    "\n",
    "# some rows are string and they would be NaN after transfering into number\n",
    "# drop all the NaN rows"
   ]
  },
  {
   "cell_type": "code",
   "execution_count": 138,
   "metadata": {},
   "outputs": [
    {
     "name": "stdout",
     "output_type": "stream",
     "text": [
      "<class 'pandas.core.series.Series'>\n",
      "Int64Index: 10712 entries, 135397 to 22293\n",
      "Series name: runtime\n",
      "Non-Null Count  Dtype\n",
      "--------------  -----\n",
      "10712 non-null  int64\n",
      "dtypes: int64(1)\n",
      "memory usage: 167.4 KB\n"
     ]
    }
   ],
   "source": [
    "df['runtime'] = df['runtime'].astype(np.int64)\n",
    "\n",
    "df['runtime'].info()"
   ]
  },
  {
   "cell_type": "markdown",
   "metadata": {},
   "source": [
    "<a id='eda'></a>\n",
    "## Exploratory Data Analysis\n",
    "\n",
    "### Research Question 1 (What kinds of properties are associated with movies that have high revenues?)"
   ]
  },
  {
   "cell_type": "code",
   "execution_count": 140,
   "metadata": {
    "scrolled": true
   },
   "outputs": [
    {
     "data": {
      "text/plain": [
       "12000000     10\n",
       "10000000      8\n",
       "11000000      6\n",
       "6000000       6\n",
       "5000000       6\n",
       "             ..\n",
       "408247917     1\n",
       "93354918      1\n",
       "76578641      1\n",
       "171269535     1\n",
       "33736689      1\n",
       "Name: revenue, Length: 4679, dtype: int64"
      ]
     },
     "execution_count": 140,
     "metadata": {},
     "output_type": "execute_result"
    }
   ],
   "source": [
    "df_revenue = df.drop(df[df['revenue'] == 0].index)\n",
    "df_revenue['revenue'].value_counts()\n",
    "\n",
    "# Exclude 0 revenue rows to avoid misleading"
   ]
  },
  {
   "cell_type": "code",
   "execution_count": 141,
   "metadata": {},
   "outputs": [
    {
     "data": {
      "text/plain": [
       "<AxesSubplot: xlabel='revenue', ylabel='revenue_adj'>"
      ]
     },
     "execution_count": 141,
     "metadata": {},
     "output_type": "execute_result"
    },
    {
     "data": {
      "image/png": "[encoded data removed]",
      "text/plain": [
       "<Figure size 640x480 with 1 Axes>"
      ]
     },
     "metadata": {},
     "output_type": "display_data"
    }
   ],
   "source": [
    "df_revenue.plot(x='revenue', y= 'revenue_adj', kind = 'scatter')\n",
    "\n",
    "# It is positive correlation between revenue and revenue_adj, and we can see that most revenue_adj is higher than revenue.\n",
    "# We do not know why there would be a revenue_adj, so we use revenue as our main factor to analysize below."
   ]
  },
  {
   "cell_type": "code",
   "execution_count": 142,
   "metadata": {
    "scrolled": true
   },
   "outputs": [
    {
     "data": {
      "text/plain": [
       "<AxesSubplot: xlabel='vote_average', ylabel='revenue'>"
      ]
     },
     "execution_count": 142,
     "metadata": {},
     "output_type": "execute_result"
    },
    {
     "data": {
      "image/png": "[encoded data removed]",
      "text/plain": [
       "<Figure size 640x480 with 1 Axes>"
      ]
     },
     "metadata": {},
     "output_type": "display_data"
    }
   ],
   "source": [
    "df_revenue.plot(x='vote_average', y= 'revenue', kind = 'scatter')\n",
    "\n",
    "# Higher vote_average means higher quality but not popularity.\n",
    "# Higer vote_average would have more chance to get higher revenue, but we can see the movie with highist revenue is not with highist vote_average.\n",
    "# We can get that audience like movie with vote_average 5-8, but there is no market for the movies with vote_average higher or lower than 5-8."
   ]
  },
  {
   "cell_type": "code",
   "execution_count": 143,
   "metadata": {},
   "outputs": [
    {
     "data": {
      "text/plain": [
       "<AxesSubplot: xlabel='popularity', ylabel='revenue'>"
      ]
     },
     "execution_count": 143,
     "metadata": {},
     "output_type": "execute_result"
    },
    {
     "data": {
      "image/png": "[encoded data removed]",
      "text/plain": [
       "<Figure size 640x480 with 1 Axes>"
      ]
     },
     "metadata": {},
     "output_type": "display_data"
    }
   ],
   "source": [
    "df_revenue.plot(x='popularity', y= 'revenue', kind = 'scatter')\n",
    "\n",
    "# Movies with over 1.5 billion revenue is with popularity over 5.\n",
    "# If the popularity is less 5, there is merely to make revenue over 1 billion."
   ]
  },
  {
   "cell_type": "code",
   "execution_count": 144,
   "metadata": {
    "scrolled": true
   },
   "outputs": [
    {
     "data": {
      "text/plain": [
       "<AxesSubplot: xlabel='runtime', ylabel='revenue'>"
      ]
     },
     "execution_count": 144,
     "metadata": {},
     "output_type": "execute_result"
    },
    {
     "data": {
      "image/png": "[encoded data removed]",
      "text/plain": [
       "<Figure size 640x480 with 1 Axes>"
      ]
     },
     "metadata": {},
     "output_type": "display_data"
    }
   ],
   "source": [
    "df_revenue.plot(x='runtime', y= 'revenue', kind = 'scatter')\n",
    "\n",
    "# There is not correlation between runtime and revenue.\n",
    "# The runtime of most movies is 100-200 and some can get higher revenue.\n",
    "# Runtime is not the main factor to make higher revenue."
   ]
  },
  {
   "cell_type": "markdown",
   "metadata": {},
   "source": [
    "### Research Question 2  (Which genres are most popular from year to year?)"
   ]
  },
  {
   "cell_type": "code",
   "execution_count": 145,
   "metadata": {
    "scrolled": true
   },
   "outputs": [
    {
     "data": {
      "text/plain": [
       "Thriller           119\n",
       "Science Fiction     66\n",
       "Family              59\n",
       "Romance             45\n",
       "Fantasy             40\n",
       "Mystery             37\n",
       "Crime               23\n",
       "War                 22\n",
       "Drama               19\n",
       "Comedy              15\n",
       "Music               14\n",
       "Adventure           14\n",
       "TV Movie            14\n",
       "Horror              11\n",
       "Action              10\n",
       "Western             10\n",
       "Foreign              9\n",
       "History              4\n",
       "Animation            3\n",
       "Name: genres_5, dtype: int64"
      ]
     },
     "execution_count": 145,
     "metadata": {},
     "output_type": "execute_result"
    }
   ],
   "source": [
    "df['genres_1'] = df['genres'].str.split('|').str.get(0)\n",
    "df['genres_2'] = df['genres'].str.split('|').str.get(1)\n",
    "df['genres_3'] = df['genres'].str.split('|').str.get(2)\n",
    "df['genres_4'] = df['genres'].str.split('|').str.get(3)\n",
    "df['genres_5'] = df['genres'].str.split('|').str.get(4)\n",
    "\n",
    "df['genres_5'].value_counts()\n",
    "\n",
    "# Split 'genres' into individual columns"
   ]
  },
  {
   "cell_type": "code",
   "execution_count": 148,
   "metadata": {},
   "outputs": [
    {
     "data": {
      "text/plain": [
       "Action             2353.0\n",
       "Adventure          1454.0\n",
       "Animation           687.0\n",
       "Comedy             3770.0\n",
       "Crime              1345.0\n",
       "Documentary           NaN\n",
       "Drama              4715.0\n",
       "Family             1217.0\n",
       "Fantasy             904.0\n",
       "Foreign             179.0\n",
       "History             323.0\n",
       "Horror             1623.0\n",
       "Music               398.0\n",
       "Mystery             803.0\n",
       "Romance            1696.0\n",
       "Science Fiction    1206.0\n",
       "TV Movie            162.0\n",
       "Thriller           2881.0\n",
       "War                 264.0\n",
       "Western             164.0\n",
       "dtype: float64"
      ]
     },
     "execution_count": 148,
     "metadata": {},
     "output_type": "execute_result"
    }
   ],
   "source": [
    "genres_1 = df['genres_1'].value_counts()\n",
    "genres_2 = df['genres_2'].value_counts()\n",
    "genres_3 = df['genres_3'].value_counts()\n",
    "genres_4 = df['genres_4'].value_counts()\n",
    "genres_5 = df['genres_5'].value_counts()\n",
    "genres = genres_1 + genres_2 + genres_3 + genres_4 + genres_5\n",
    "genres\n",
    "\n",
    "# Check the frequency of each genres\n",
    "# Choose the top 10 of frequency to do further analysis"
   ]
  },
  {
   "cell_type": "code",
   "execution_count": 150,
   "metadata": {},
   "outputs": [],
   "source": [
    "df['Drama'] = (df['genres_1'] == 'Drama') | (df['genres_2'] == 'Drama') | (df['genres_3'] == 'Drama') | (df['genres_4'] == 'Drama') | (df['genres_5'] == 'Drama')\n",
    "df['Comedy'] = (df['genres_1'] == 'Comedy') | (df['genres_2'] == 'Comedy') | (df['genres_3'] == 'Comedy') | (df['genres_4'] == 'Comedy') | (df['genres_5'] == 'Comedy')\n",
    "df['Thriller'] = (df['genres_1'] == 'Thriller') | (df['genres_2'] == 'Thriller') | (df['genres_3'] == 'Thriller') | (df['genres_4'] == 'Thriller') | (df['genres_5'] == 'Thriller')\n",
    "df['Action'] = (df['genres_1'] == 'Action') | (df['genres_2'] == 'Action') | (df['genres_3'] == 'Action') | (df['genres_4'] == 'Action') | (df['genres_5'] == 'Action')\n",
    "df['Romance'] = (df['genres_1'] == 'Romance') | (df['genres_2'] == 'Romance') | (df['genres_3'] == 'Romance') | (df['genres_4'] == 'Romance') | (df['genres_5'] == 'Romance')\n",
    "df['Horror'] = (df['genres_1'] == 'Horror') | (df['genres_2'] == 'Horror') | (df['genres_3'] == 'Horror') | (df['genres_4'] == 'Horror') | (df['genres_5'] == 'Horror')\n",
    "df['Adventure'] = (df['genres_1'] == 'Adventure') | (df['genres_2'] == 'Adventure') | (df['genres_3'] == 'Adventure') | (df['genres_4'] == 'Adventure') | (df['genres_5'] == 'Adventure')\n",
    "df['Crime'] = (df['genres_1'] == 'Crime') | (df['genres_2'] == 'Crime') | (df['genres_3'] == 'Crime') | (df['genres_4'] == 'Crime') | (df['genres_5'] == 'Crime')\n",
    "df['Family'] = (df['genres_1'] == 'Family') | (df['genres_2'] == 'Family') | (df['genres_3'] == 'Family') | (df['genres_4'] == 'Family') | (df['genres_5'] == 'Family')\n",
    "df['Science Fiction'] = (df['genres_1'] == 'Science Fiction') | (df['genres_2'] == 'Science Fiction') | (df['genres_3'] == 'Science Fiction') | (df['genres_4'] == 'Science Fiction') | (df['genres_5'] == 'Science Fiction')\n",
    "\n",
    "# Give a mark for each genres"
   ]
  },
  {
   "cell_type": "code",
   "execution_count": 151,
   "metadata": {},
   "outputs": [],
   "source": [
    "# Calculate the mean of popularity by genres and release_year\n",
    "# Merge all the tables in the end\n",
    "\n",
    "df_drama = df[df['Drama'] == True]\n",
    "Drama_Year_mean = df_drama.groupby(['release_year'], as_index = False)['popularity'].mean()"
   ]
  },
  {
   "cell_type": "code",
   "execution_count": 152,
   "metadata": {
    "scrolled": true
   },
   "outputs": [],
   "source": [
    "df_comedy = df[df['Comedy'] == True]\n",
    "Comedy_Year_mean = df_comedy.groupby(['release_year'], as_index = False)['popularity'].mean()"
   ]
  },
  {
   "cell_type": "code",
   "execution_count": 153,
   "metadata": {
    "scrolled": true
   },
   "outputs": [
    {
     "data": {
      "text/html": [
       "<div>\n",
       "<style scoped>\n",
       "    .dataframe tbody tr th:only-of-type {\n",
       "        vertical-align: middle;\n",
       "    }\n",
       "\n",
       "    .dataframe tbody tr th {\n",
       "        vertical-align: top;\n",
       "    }\n",
       "\n",
       "    .dataframe thead th {\n",
       "        text-align: right;\n",
       "    }\n",
       "</style>\n",
       "<table border=\"1\" class=\"dataframe\">\n",
       "  <thead>\n",
       "    <tr style=\"text-align: right;\">\n",
       "      <th></th>\n",
       "      <th>release_year</th>\n",
       "      <th>popularity_x</th>\n",
       "      <th>popularity_y</th>\n",
       "    </tr>\n",
       "  </thead>\n",
       "  <tbody>\n",
       "    <tr>\n",
       "      <th>0</th>\n",
       "      <td>1960</td>\n",
       "      <td>0.566305</td>\n",
       "      <td>0.396000</td>\n",
       "    </tr>\n",
       "    <tr>\n",
       "      <th>1</th>\n",
       "      <td>1961</td>\n",
       "      <td>0.432233</td>\n",
       "      <td>0.679838</td>\n",
       "    </tr>\n",
       "    <tr>\n",
       "      <th>2</th>\n",
       "      <td>1962</td>\n",
       "      <td>0.370411</td>\n",
       "      <td>0.273183</td>\n",
       "    </tr>\n",
       "    <tr>\n",
       "      <th>3</th>\n",
       "      <td>1963</td>\n",
       "      <td>0.322448</td>\n",
       "      <td>0.444481</td>\n",
       "    </tr>\n",
       "    <tr>\n",
       "      <th>4</th>\n",
       "      <td>1964</td>\n",
       "      <td>0.364819</td>\n",
       "      <td>0.491229</td>\n",
       "    </tr>\n",
       "  </tbody>\n",
       "</table>\n",
       "</div>"
      ],
      "text/plain": [
       "  release_year  popularity_x  popularity_y\n",
       "0         1960      0.566305      0.396000\n",
       "1         1961      0.432233      0.679838\n",
       "2         1962      0.370411      0.273183\n",
       "3         1963      0.322448      0.444481\n",
       "4         1964      0.364819      0.491229"
      ]
     },
     "execution_count": 153,
     "metadata": {},
     "output_type": "execute_result"
    }
   ],
   "source": [
    "df_combined = Drama_Year_mean.merge(Comedy_Year_mean, left_on='release_year', right_on='release_year', how='inner')\n",
    "df_combined.head(1)"
   ]
  },
  {
   "cell_type": "code",
   "execution_count": 154,
   "metadata": {},
   "outputs": [],
   "source": [
    "df_Thriller = df[df['Thriller'] == True]\n",
    "Thriller_Year_mean = df_Thriller.groupby(['release_year'], as_index = False)['popularity'].mean()"
   ]
  },
  {
   "cell_type": "code",
   "execution_count": 155,
   "metadata": {},
   "outputs": [
    {
     "data": {
      "text/html": [
       "<div>\n",
       "<style scoped>\n",
       "    .dataframe tbody tr th:only-of-type {\n",
       "        vertical-align: middle;\n",
       "    }\n",
       "\n",
       "    .dataframe tbody tr th {\n",
       "        vertical-align: top;\n",
       "    }\n",
       "\n",
       "    .dataframe thead th {\n",
       "        text-align: right;\n",
       "    }\n",
       "</style>\n",
       "<table border=\"1\" class=\"dataframe\">\n",
       "  <thead>\n",
       "    <tr style=\"text-align: right;\">\n",
       "      <th></th>\n",
       "      <th>release_year</th>\n",
       "      <th>popularity_x</th>\n",
       "      <th>popularity_y</th>\n",
       "      <th>popularity</th>\n",
       "    </tr>\n",
       "  </thead>\n",
       "  <tbody>\n",
       "    <tr>\n",
       "      <th>0</th>\n",
       "      <td>1960</td>\n",
       "      <td>0.566305</td>\n",
       "      <td>0.396000</td>\n",
       "      <td>0.811910</td>\n",
       "    </tr>\n",
       "    <tr>\n",
       "      <th>1</th>\n",
       "      <td>1962</td>\n",
       "      <td>0.370411</td>\n",
       "      <td>0.273183</td>\n",
       "      <td>0.760582</td>\n",
       "    </tr>\n",
       "    <tr>\n",
       "      <th>2</th>\n",
       "      <td>1963</td>\n",
       "      <td>0.322448</td>\n",
       "      <td>0.444481</td>\n",
       "      <td>0.719929</td>\n",
       "    </tr>\n",
       "    <tr>\n",
       "      <th>3</th>\n",
       "      <td>1964</td>\n",
       "      <td>0.364819</td>\n",
       "      <td>0.491229</td>\n",
       "      <td>0.622580</td>\n",
       "    </tr>\n",
       "    <tr>\n",
       "      <th>4</th>\n",
       "      <td>1965</td>\n",
       "      <td>0.305288</td>\n",
       "      <td>0.358721</td>\n",
       "      <td>0.343072</td>\n",
       "    </tr>\n",
       "  </tbody>\n",
       "</table>\n",
       "</div>"
      ],
      "text/plain": [
       "  release_year  popularity_x  popularity_y  popularity\n",
       "0         1960      0.566305      0.396000    0.811910\n",
       "1         1962      0.370411      0.273183    0.760582\n",
       "2         1963      0.322448      0.444481    0.719929\n",
       "3         1964      0.364819      0.491229    0.622580\n",
       "4         1965      0.305288      0.358721    0.343072"
      ]
     },
     "execution_count": 155,
     "metadata": {},
     "output_type": "execute_result"
    }
   ],
   "source": [
    "df_combined = df_combined.merge(Thriller_Year_mean, left_on='release_year', right_on='release_year', how='inner', suffixes=('_drama', '_comedy', '_thriller'))\n",
    "df_combined.head(1)"
   ]
  },
  {
   "cell_type": "code",
   "execution_count": 156,
   "metadata": {},
   "outputs": [],
   "source": [
    "df_Action = df[df['Action'] == True]\n",
    "Action_Year_mean = df_Action.groupby(['release_year'], as_index = False)['popularity'].mean()"
   ]
  },
  {
   "cell_type": "code",
   "execution_count": 157,
   "metadata": {},
   "outputs": [
    {
     "name": "stderr",
     "output_type": "stream",
     "text": [
      "C:\\Users\\urrig\\AppData\\Local\\Temp\\ipykernel_10296\\152240323.py:1: FutureWarning: Passing 'suffixes' which cause duplicate columns {'popularity_x'} in the result is deprecated and will raise a MergeError in a future version.\n",
      "  df_combined = df_combined.merge(Action_Year_mean, left_on='release_year', right_on='release_year', how='inner')\n"
     ]
    },
    {
     "data": {
      "text/html": [
       "<div>\n",
       "<style scoped>\n",
       "    .dataframe tbody tr th:only-of-type {\n",
       "        vertical-align: middle;\n",
       "    }\n",
       "\n",
       "    .dataframe tbody tr th {\n",
       "        vertical-align: top;\n",
       "    }\n",
       "\n",
       "    .dataframe thead th {\n",
       "        text-align: right;\n",
       "    }\n",
       "</style>\n",
       "<table border=\"1\" class=\"dataframe\">\n",
       "  <thead>\n",
       "    <tr style=\"text-align: right;\">\n",
       "      <th></th>\n",
       "      <th>release_year</th>\n",
       "      <th>popularity_x</th>\n",
       "      <th>popularity_y</th>\n",
       "      <th>popularity_x</th>\n",
       "      <th>popularity_y</th>\n",
       "    </tr>\n",
       "  </thead>\n",
       "  <tbody>\n",
       "    <tr>\n",
       "      <th>0</th>\n",
       "      <td>1960</td>\n",
       "      <td>0.566305</td>\n",
       "      <td>0.396000</td>\n",
       "      <td>0.811910</td>\n",
       "      <td>0.590724</td>\n",
       "    </tr>\n",
       "    <tr>\n",
       "      <th>1</th>\n",
       "      <td>1962</td>\n",
       "      <td>0.370411</td>\n",
       "      <td>0.273183</td>\n",
       "      <td>0.760582</td>\n",
       "      <td>0.708945</td>\n",
       "    </tr>\n",
       "    <tr>\n",
       "      <th>2</th>\n",
       "      <td>1963</td>\n",
       "      <td>0.322448</td>\n",
       "      <td>0.444481</td>\n",
       "      <td>0.719929</td>\n",
       "      <td>0.951729</td>\n",
       "    </tr>\n",
       "    <tr>\n",
       "      <th>3</th>\n",
       "      <td>1964</td>\n",
       "      <td>0.364819</td>\n",
       "      <td>0.491229</td>\n",
       "      <td>0.622580</td>\n",
       "      <td>0.813087</td>\n",
       "    </tr>\n",
       "    <tr>\n",
       "      <th>4</th>\n",
       "      <td>1965</td>\n",
       "      <td>0.305288</td>\n",
       "      <td>0.358721</td>\n",
       "      <td>0.343072</td>\n",
       "      <td>0.451373</td>\n",
       "    </tr>\n",
       "  </tbody>\n",
       "</table>\n",
       "</div>"
      ],
      "text/plain": [
       "  release_year  popularity_x  popularity_y  popularity_x  popularity_y\n",
       "0         1960      0.566305      0.396000      0.811910      0.590724\n",
       "1         1962      0.370411      0.273183      0.760582      0.708945\n",
       "2         1963      0.322448      0.444481      0.719929      0.951729\n",
       "3         1964      0.364819      0.491229      0.622580      0.813087\n",
       "4         1965      0.305288      0.358721      0.343072      0.451373"
      ]
     },
     "execution_count": 157,
     "metadata": {},
     "output_type": "execute_result"
    }
   ],
   "source": [
    "df_combined = df_combined.merge(Action_Year_mean, left_on='release_year', right_on='release_year', how='inner')\n",
    "df_combined.head(1)"
   ]
  },
  {
   "cell_type": "code",
   "execution_count": 158,
   "metadata": {},
   "outputs": [],
   "source": [
    "df_Romance = df[df['Romance'] == True]\n",
    "Romance_Year_mean = df_Romance.groupby(['release_year'], as_index = False)['popularity'].mean()"
   ]
  },
  {
   "cell_type": "code",
   "execution_count": 159,
   "metadata": {},
   "outputs": [
    {
     "data": {
      "text/html": [
       "<div>\n",
       "<style scoped>\n",
       "    .dataframe tbody tr th:only-of-type {\n",
       "        vertical-align: middle;\n",
       "    }\n",
       "\n",
       "    .dataframe tbody tr th {\n",
       "        vertical-align: top;\n",
       "    }\n",
       "\n",
       "    .dataframe thead th {\n",
       "        text-align: right;\n",
       "    }\n",
       "</style>\n",
       "<table border=\"1\" class=\"dataframe\">\n",
       "  <thead>\n",
       "    <tr style=\"text-align: right;\">\n",
       "      <th></th>\n",
       "      <th>release_year</th>\n",
       "      <th>popularity_x</th>\n",
       "      <th>popularity_y</th>\n",
       "      <th>popularity_x</th>\n",
       "      <th>popularity_y</th>\n",
       "      <th>popularity</th>\n",
       "    </tr>\n",
       "  </thead>\n",
       "  <tbody>\n",
       "    <tr>\n",
       "      <th>0</th>\n",
       "      <td>1960</td>\n",
       "      <td>0.566305</td>\n",
       "      <td>0.396000</td>\n",
       "      <td>0.811910</td>\n",
       "      <td>0.590724</td>\n",
       "      <td>0.541227</td>\n",
       "    </tr>\n",
       "    <tr>\n",
       "      <th>1</th>\n",
       "      <td>1962</td>\n",
       "      <td>0.370411</td>\n",
       "      <td>0.273183</td>\n",
       "      <td>0.760582</td>\n",
       "      <td>0.708945</td>\n",
       "      <td>0.251082</td>\n",
       "    </tr>\n",
       "    <tr>\n",
       "      <th>2</th>\n",
       "      <td>1963</td>\n",
       "      <td>0.322448</td>\n",
       "      <td>0.444481</td>\n",
       "      <td>0.719929</td>\n",
       "      <td>0.951729</td>\n",
       "      <td>0.399573</td>\n",
       "    </tr>\n",
       "    <tr>\n",
       "      <th>3</th>\n",
       "      <td>1964</td>\n",
       "      <td>0.364819</td>\n",
       "      <td>0.491229</td>\n",
       "      <td>0.622580</td>\n",
       "      <td>0.813087</td>\n",
       "      <td>0.221586</td>\n",
       "    </tr>\n",
       "    <tr>\n",
       "      <th>4</th>\n",
       "      <td>1965</td>\n",
       "      <td>0.305288</td>\n",
       "      <td>0.358721</td>\n",
       "      <td>0.343072</td>\n",
       "      <td>0.451373</td>\n",
       "      <td>0.622780</td>\n",
       "    </tr>\n",
       "  </tbody>\n",
       "</table>\n",
       "</div>"
      ],
      "text/plain": [
       "  release_year  popularity_x  popularity_y  popularity_x  popularity_y  \\\n",
       "0         1960      0.566305      0.396000      0.811910      0.590724   \n",
       "1         1962      0.370411      0.273183      0.760582      0.708945   \n",
       "2         1963      0.322448      0.444481      0.719929      0.951729   \n",
       "3         1964      0.364819      0.491229      0.622580      0.813087   \n",
       "4         1965      0.305288      0.358721      0.343072      0.451373   \n",
       "\n",
       "   popularity  \n",
       "0    0.541227  \n",
       "1    0.251082  \n",
       "2    0.399573  \n",
       "3    0.221586  \n",
       "4    0.622780  "
      ]
     },
     "execution_count": 159,
     "metadata": {},
     "output_type": "execute_result"
    }
   ],
   "source": [
    "df_combined = df_combined.merge(Romance_Year_mean, left_on='release_year', right_on='release_year', how='inner')\n",
    "df_combined.head(1)"
   ]
  },
  {
   "cell_type": "code",
   "execution_count": 160,
   "metadata": {},
   "outputs": [],
   "source": [
    "df_Horror = df[df['Horror'] == True]\n",
    "Horror_Year_mean = df_Horror.groupby(['release_year'], as_index = False)['popularity'].mean()"
   ]
  },
  {
   "cell_type": "code",
   "execution_count": 161,
   "metadata": {},
   "outputs": [
    {
     "name": "stderr",
     "output_type": "stream",
     "text": [
      "C:\\Users\\urrig\\AppData\\Local\\Temp\\ipykernel_10296\\126239702.py:1: FutureWarning: Passing 'suffixes' which cause duplicate columns {'popularity_x'} in the result is deprecated and will raise a MergeError in a future version.\n",
      "  df_combined = df_combined.merge(Horror_Year_mean, left_on='release_year', right_on='release_year', how='inner')\n"
     ]
    },
    {
     "data": {
      "text/html": [
       "<div>\n",
       "<style scoped>\n",
       "    .dataframe tbody tr th:only-of-type {\n",
       "        vertical-align: middle;\n",
       "    }\n",
       "\n",
       "    .dataframe tbody tr th {\n",
       "        vertical-align: top;\n",
       "    }\n",
       "\n",
       "    .dataframe thead th {\n",
       "        text-align: right;\n",
       "    }\n",
       "</style>\n",
       "<table border=\"1\" class=\"dataframe\">\n",
       "  <thead>\n",
       "    <tr style=\"text-align: right;\">\n",
       "      <th></th>\n",
       "      <th>release_year</th>\n",
       "      <th>popularity_x</th>\n",
       "      <th>popularity_y</th>\n",
       "      <th>popularity_x</th>\n",
       "      <th>popularity_y</th>\n",
       "      <th>popularity_x</th>\n",
       "      <th>popularity_y</th>\n",
       "    </tr>\n",
       "  </thead>\n",
       "  <tbody>\n",
       "    <tr>\n",
       "      <th>0</th>\n",
       "      <td>1960</td>\n",
       "      <td>0.566305</td>\n",
       "      <td>0.396000</td>\n",
       "      <td>0.811910</td>\n",
       "      <td>0.590724</td>\n",
       "      <td>0.541227</td>\n",
       "      <td>0.591450</td>\n",
       "    </tr>\n",
       "    <tr>\n",
       "      <th>1</th>\n",
       "      <td>1962</td>\n",
       "      <td>0.370411</td>\n",
       "      <td>0.273183</td>\n",
       "      <td>0.760582</td>\n",
       "      <td>0.708945</td>\n",
       "      <td>0.251082</td>\n",
       "      <td>0.179368</td>\n",
       "    </tr>\n",
       "    <tr>\n",
       "      <th>2</th>\n",
       "      <td>1963</td>\n",
       "      <td>0.322448</td>\n",
       "      <td>0.444481</td>\n",
       "      <td>0.719929</td>\n",
       "      <td>0.951729</td>\n",
       "      <td>0.399573</td>\n",
       "      <td>0.376901</td>\n",
       "    </tr>\n",
       "    <tr>\n",
       "      <th>3</th>\n",
       "      <td>1964</td>\n",
       "      <td>0.364819</td>\n",
       "      <td>0.491229</td>\n",
       "      <td>0.622580</td>\n",
       "      <td>0.813087</td>\n",
       "      <td>0.221586</td>\n",
       "      <td>0.189650</td>\n",
       "    </tr>\n",
       "    <tr>\n",
       "      <th>4</th>\n",
       "      <td>1965</td>\n",
       "      <td>0.305288</td>\n",
       "      <td>0.358721</td>\n",
       "      <td>0.343072</td>\n",
       "      <td>0.451373</td>\n",
       "      <td>0.622780</td>\n",
       "      <td>0.124838</td>\n",
       "    </tr>\n",
       "  </tbody>\n",
       "</table>\n",
       "</div>"
      ],
      "text/plain": [
       "  release_year  popularity_x  popularity_y  popularity_x  popularity_y  \\\n",
       "0         1960      0.566305      0.396000      0.811910      0.590724   \n",
       "1         1962      0.370411      0.273183      0.760582      0.708945   \n",
       "2         1963      0.322448      0.444481      0.719929      0.951729   \n",
       "3         1964      0.364819      0.491229      0.622580      0.813087   \n",
       "4         1965      0.305288      0.358721      0.343072      0.451373   \n",
       "\n",
       "   popularity_x  popularity_y  \n",
       "0      0.541227      0.591450  \n",
       "1      0.251082      0.179368  \n",
       "2      0.399573      0.376901  \n",
       "3      0.221586      0.189650  \n",
       "4      0.622780      0.124838  "
      ]
     },
     "execution_count": 161,
     "metadata": {},
     "output_type": "execute_result"
    }
   ],
   "source": [
    "df_combined = df_combined.merge(Horror_Year_mean, left_on='release_year', right_on='release_year', how='inner')\n",
    "df_combined.head(1)"
   ]
  },
  {
   "cell_type": "code",
   "execution_count": 162,
   "metadata": {},
   "outputs": [],
   "source": [
    "df_Adventure = df[df['Adventure'] == True]\n",
    "Adventure_Year_mean = df_Adventure.groupby(['release_year'], as_index = False)['popularity'].mean()"
   ]
  },
  {
   "cell_type": "code",
   "execution_count": 163,
   "metadata": {},
   "outputs": [
    {
     "data": {
      "text/html": [
       "<div>\n",
       "<style scoped>\n",
       "    .dataframe tbody tr th:only-of-type {\n",
       "        vertical-align: middle;\n",
       "    }\n",
       "\n",
       "    .dataframe tbody tr th {\n",
       "        vertical-align: top;\n",
       "    }\n",
       "\n",
       "    .dataframe thead th {\n",
       "        text-align: right;\n",
       "    }\n",
       "</style>\n",
       "<table border=\"1\" class=\"dataframe\">\n",
       "  <thead>\n",
       "    <tr style=\"text-align: right;\">\n",
       "      <th></th>\n",
       "      <th>release_year</th>\n",
       "      <th>popularity_x</th>\n",
       "      <th>popularity_y</th>\n",
       "      <th>popularity_x</th>\n",
       "      <th>popularity_y</th>\n",
       "      <th>popularity_x</th>\n",
       "      <th>popularity_y</th>\n",
       "      <th>popularity</th>\n",
       "    </tr>\n",
       "  </thead>\n",
       "  <tbody>\n",
       "    <tr>\n",
       "      <th>0</th>\n",
       "      <td>1960</td>\n",
       "      <td>0.566305</td>\n",
       "      <td>0.396000</td>\n",
       "      <td>0.811910</td>\n",
       "      <td>0.590724</td>\n",
       "      <td>0.541227</td>\n",
       "      <td>0.591450</td>\n",
       "      <td>0.700981</td>\n",
       "    </tr>\n",
       "    <tr>\n",
       "      <th>1</th>\n",
       "      <td>1962</td>\n",
       "      <td>0.370411</td>\n",
       "      <td>0.273183</td>\n",
       "      <td>0.760582</td>\n",
       "      <td>0.708945</td>\n",
       "      <td>0.251082</td>\n",
       "      <td>0.179368</td>\n",
       "      <td>0.942513</td>\n",
       "    </tr>\n",
       "    <tr>\n",
       "      <th>2</th>\n",
       "      <td>1963</td>\n",
       "      <td>0.322448</td>\n",
       "      <td>0.444481</td>\n",
       "      <td>0.719929</td>\n",
       "      <td>0.951729</td>\n",
       "      <td>0.399573</td>\n",
       "      <td>0.376901</td>\n",
       "      <td>0.728487</td>\n",
       "    </tr>\n",
       "    <tr>\n",
       "      <th>3</th>\n",
       "      <td>1964</td>\n",
       "      <td>0.364819</td>\n",
       "      <td>0.491229</td>\n",
       "      <td>0.622580</td>\n",
       "      <td>0.813087</td>\n",
       "      <td>0.221586</td>\n",
       "      <td>0.189650</td>\n",
       "      <td>0.736431</td>\n",
       "    </tr>\n",
       "    <tr>\n",
       "      <th>4</th>\n",
       "      <td>1965</td>\n",
       "      <td>0.305288</td>\n",
       "      <td>0.358721</td>\n",
       "      <td>0.343072</td>\n",
       "      <td>0.451373</td>\n",
       "      <td>0.622780</td>\n",
       "      <td>0.124838</td>\n",
       "      <td>0.581820</td>\n",
       "    </tr>\n",
       "  </tbody>\n",
       "</table>\n",
       "</div>"
      ],
      "text/plain": [
       "  release_year  popularity_x  popularity_y  popularity_x  popularity_y  \\\n",
       "0         1960      0.566305      0.396000      0.811910      0.590724   \n",
       "1         1962      0.370411      0.273183      0.760582      0.708945   \n",
       "2         1963      0.322448      0.444481      0.719929      0.951729   \n",
       "3         1964      0.364819      0.491229      0.622580      0.813087   \n",
       "4         1965      0.305288      0.358721      0.343072      0.451373   \n",
       "\n",
       "   popularity_x  popularity_y  popularity  \n",
       "0      0.541227      0.591450    0.700981  \n",
       "1      0.251082      0.179368    0.942513  \n",
       "2      0.399573      0.376901    0.728487  \n",
       "3      0.221586      0.189650    0.736431  \n",
       "4      0.622780      0.124838    0.581820  "
      ]
     },
     "execution_count": 163,
     "metadata": {},
     "output_type": "execute_result"
    }
   ],
   "source": [
    "df_combined = df_combined.merge(Adventure_Year_mean, left_on='release_year', right_on='release_year', how='inner')\n",
    "df_combined.head(1)"
   ]
  },
  {
   "cell_type": "code",
   "execution_count": 164,
   "metadata": {},
   "outputs": [],
   "source": [
    "df_Crime = df[df['Crime'] == True]\n",
    "Crime_Year_mean = df_Crime.groupby(['release_year'], as_index = False)['popularity'].mean()"
   ]
  },
  {
   "cell_type": "code",
   "execution_count": 165,
   "metadata": {},
   "outputs": [
    {
     "name": "stderr",
     "output_type": "stream",
     "text": [
      "C:\\Users\\urrig\\AppData\\Local\\Temp\\ipykernel_10296\\836931574.py:1: FutureWarning: Passing 'suffixes' which cause duplicate columns {'popularity_x'} in the result is deprecated and will raise a MergeError in a future version.\n",
      "  df_combined = df_combined.merge(Crime_Year_mean, left_on='release_year', right_on='release_year', how='inner')\n"
     ]
    },
    {
     "data": {
      "text/html": [
       "<div>\n",
       "<style scoped>\n",
       "    .dataframe tbody tr th:only-of-type {\n",
       "        vertical-align: middle;\n",
       "    }\n",
       "\n",
       "    .dataframe tbody tr th {\n",
       "        vertical-align: top;\n",
       "    }\n",
       "\n",
       "    .dataframe thead th {\n",
       "        text-align: right;\n",
       "    }\n",
       "</style>\n",
       "<table border=\"1\" class=\"dataframe\">\n",
       "  <thead>\n",
       "    <tr style=\"text-align: right;\">\n",
       "      <th></th>\n",
       "      <th>release_year</th>\n",
       "      <th>popularity_x</th>\n",
       "      <th>popularity_y</th>\n",
       "      <th>popularity_x</th>\n",
       "      <th>popularity_y</th>\n",
       "      <th>popularity_x</th>\n",
       "      <th>popularity_y</th>\n",
       "      <th>popularity_x</th>\n",
       "      <th>popularity_y</th>\n",
       "    </tr>\n",
       "  </thead>\n",
       "  <tbody>\n",
       "    <tr>\n",
       "      <th>0</th>\n",
       "      <td>1960</td>\n",
       "      <td>0.566305</td>\n",
       "      <td>0.396000</td>\n",
       "      <td>0.811910</td>\n",
       "      <td>0.590724</td>\n",
       "      <td>0.541227</td>\n",
       "      <td>0.591450</td>\n",
       "      <td>0.700981</td>\n",
       "      <td>0.346479</td>\n",
       "    </tr>\n",
       "    <tr>\n",
       "      <th>1</th>\n",
       "      <td>1962</td>\n",
       "      <td>0.370411</td>\n",
       "      <td>0.273183</td>\n",
       "      <td>0.760582</td>\n",
       "      <td>0.708945</td>\n",
       "      <td>0.251082</td>\n",
       "      <td>0.179368</td>\n",
       "      <td>0.942513</td>\n",
       "      <td>0.472816</td>\n",
       "    </tr>\n",
       "    <tr>\n",
       "      <th>2</th>\n",
       "      <td>1963</td>\n",
       "      <td>0.322448</td>\n",
       "      <td>0.444481</td>\n",
       "      <td>0.719929</td>\n",
       "      <td>0.951729</td>\n",
       "      <td>0.399573</td>\n",
       "      <td>0.376901</td>\n",
       "      <td>0.728487</td>\n",
       "      <td>0.552368</td>\n",
       "    </tr>\n",
       "    <tr>\n",
       "      <th>3</th>\n",
       "      <td>1964</td>\n",
       "      <td>0.364819</td>\n",
       "      <td>0.491229</td>\n",
       "      <td>0.622580</td>\n",
       "      <td>0.813087</td>\n",
       "      <td>0.221586</td>\n",
       "      <td>0.189650</td>\n",
       "      <td>0.736431</td>\n",
       "      <td>0.261690</td>\n",
       "    </tr>\n",
       "    <tr>\n",
       "      <th>4</th>\n",
       "      <td>1965</td>\n",
       "      <td>0.305288</td>\n",
       "      <td>0.358721</td>\n",
       "      <td>0.343072</td>\n",
       "      <td>0.451373</td>\n",
       "      <td>0.622780</td>\n",
       "      <td>0.124838</td>\n",
       "      <td>0.581820</td>\n",
       "      <td>0.387277</td>\n",
       "    </tr>\n",
       "  </tbody>\n",
       "</table>\n",
       "</div>"
      ],
      "text/plain": [
       "  release_year  popularity_x  popularity_y  popularity_x  popularity_y  \\\n",
       "0         1960      0.566305      0.396000      0.811910      0.590724   \n",
       "1         1962      0.370411      0.273183      0.760582      0.708945   \n",
       "2         1963      0.322448      0.444481      0.719929      0.951729   \n",
       "3         1964      0.364819      0.491229      0.622580      0.813087   \n",
       "4         1965      0.305288      0.358721      0.343072      0.451373   \n",
       "\n",
       "   popularity_x  popularity_y  popularity_x  popularity_y  \n",
       "0      0.541227      0.591450      0.700981      0.346479  \n",
       "1      0.251082      0.179368      0.942513      0.472816  \n",
       "2      0.399573      0.376901      0.728487      0.552368  \n",
       "3      0.221586      0.189650      0.736431      0.261690  \n",
       "4      0.622780      0.124838      0.581820      0.387277  "
      ]
     },
     "execution_count": 165,
     "metadata": {},
     "output_type": "execute_result"
    }
   ],
   "source": [
    "df_combined = df_combined.merge(Crime_Year_mean, left_on='release_year', right_on='release_year', how='inner')\n",
    "df_combined.head(1)"
   ]
  },
  {
   "cell_type": "code",
   "execution_count": 166,
   "metadata": {},
   "outputs": [],
   "source": [
    "df_Family = df[df['Family'] == True]\n",
    "Family_Year_mean = df_Family.groupby(['release_year'], as_index = False)['popularity'].mean()"
   ]
  },
  {
   "cell_type": "code",
   "execution_count": 167,
   "metadata": {
    "scrolled": true
   },
   "outputs": [
    {
     "data": {
      "text/html": [
       "<div>\n",
       "<style scoped>\n",
       "    .dataframe tbody tr th:only-of-type {\n",
       "        vertical-align: middle;\n",
       "    }\n",
       "\n",
       "    .dataframe tbody tr th {\n",
       "        vertical-align: top;\n",
       "    }\n",
       "\n",
       "    .dataframe thead th {\n",
       "        text-align: right;\n",
       "    }\n",
       "</style>\n",
       "<table border=\"1\" class=\"dataframe\">\n",
       "  <thead>\n",
       "    <tr style=\"text-align: right;\">\n",
       "      <th></th>\n",
       "      <th>release_year</th>\n",
       "      <th>popularity_x</th>\n",
       "      <th>popularity_y</th>\n",
       "      <th>popularity_x</th>\n",
       "      <th>popularity_y</th>\n",
       "      <th>popularity_x</th>\n",
       "      <th>popularity_y</th>\n",
       "      <th>popularity_x</th>\n",
       "      <th>popularity_y</th>\n",
       "      <th>popularity</th>\n",
       "    </tr>\n",
       "  </thead>\n",
       "  <tbody>\n",
       "    <tr>\n",
       "      <th>0</th>\n",
       "      <td>1960</td>\n",
       "      <td>0.566305</td>\n",
       "      <td>0.396000</td>\n",
       "      <td>0.811910</td>\n",
       "      <td>0.590724</td>\n",
       "      <td>0.541227</td>\n",
       "      <td>0.591450</td>\n",
       "      <td>0.700981</td>\n",
       "      <td>0.346479</td>\n",
       "      <td>0.278064</td>\n",
       "    </tr>\n",
       "    <tr>\n",
       "      <th>1</th>\n",
       "      <td>1962</td>\n",
       "      <td>0.370411</td>\n",
       "      <td>0.273183</td>\n",
       "      <td>0.760582</td>\n",
       "      <td>0.708945</td>\n",
       "      <td>0.251082</td>\n",
       "      <td>0.179368</td>\n",
       "      <td>0.942513</td>\n",
       "      <td>0.472816</td>\n",
       "      <td>0.323463</td>\n",
       "    </tr>\n",
       "    <tr>\n",
       "      <th>2</th>\n",
       "      <td>1963</td>\n",
       "      <td>0.322448</td>\n",
       "      <td>0.444481</td>\n",
       "      <td>0.719929</td>\n",
       "      <td>0.951729</td>\n",
       "      <td>0.399573</td>\n",
       "      <td>0.376901</td>\n",
       "      <td>0.728487</td>\n",
       "      <td>0.552368</td>\n",
       "      <td>0.852632</td>\n",
       "    </tr>\n",
       "    <tr>\n",
       "      <th>3</th>\n",
       "      <td>1964</td>\n",
       "      <td>0.364819</td>\n",
       "      <td>0.491229</td>\n",
       "      <td>0.622580</td>\n",
       "      <td>0.813087</td>\n",
       "      <td>0.221586</td>\n",
       "      <td>0.189650</td>\n",
       "      <td>0.736431</td>\n",
       "      <td>0.261690</td>\n",
       "      <td>0.878298</td>\n",
       "    </tr>\n",
       "    <tr>\n",
       "      <th>4</th>\n",
       "      <td>1965</td>\n",
       "      <td>0.305288</td>\n",
       "      <td>0.358721</td>\n",
       "      <td>0.343072</td>\n",
       "      <td>0.451373</td>\n",
       "      <td>0.622780</td>\n",
       "      <td>0.124838</td>\n",
       "      <td>0.581820</td>\n",
       "      <td>0.387277</td>\n",
       "      <td>0.662713</td>\n",
       "    </tr>\n",
       "  </tbody>\n",
       "</table>\n",
       "</div>"
      ],
      "text/plain": [
       "  release_year  popularity_x  popularity_y  popularity_x  popularity_y  \\\n",
       "0         1960      0.566305      0.396000      0.811910      0.590724   \n",
       "1         1962      0.370411      0.273183      0.760582      0.708945   \n",
       "2         1963      0.322448      0.444481      0.719929      0.951729   \n",
       "3         1964      0.364819      0.491229      0.622580      0.813087   \n",
       "4         1965      0.305288      0.358721      0.343072      0.451373   \n",
       "\n",
       "   popularity_x  popularity_y  popularity_x  popularity_y  popularity  \n",
       "0      0.541227      0.591450      0.700981      0.346479    0.278064  \n",
       "1      0.251082      0.179368      0.942513      0.472816    0.323463  \n",
       "2      0.399573      0.376901      0.728487      0.552368    0.852632  \n",
       "3      0.221586      0.189650      0.736431      0.261690    0.878298  \n",
       "4      0.622780      0.124838      0.581820      0.387277    0.662713  "
      ]
     },
     "execution_count": 167,
     "metadata": {},
     "output_type": "execute_result"
    }
   ],
   "source": [
    "df_combined = df_combined.merge(Family_Year_mean, left_on='release_year', right_on='release_year', how='inner')\n",
    "df_combined.head(1)"
   ]
  },
  {
   "cell_type": "code",
   "execution_count": 168,
   "metadata": {},
   "outputs": [],
   "source": [
    "df_Science_Fiction = df[df['Science Fiction'] == True]\n",
    "Science_Fiction_Year_mean = df_Science_Fiction.groupby(['release_year'], as_index = False)['popularity'].mean()"
   ]
  },
  {
   "cell_type": "code",
   "execution_count": 169,
   "metadata": {},
   "outputs": [
    {
     "name": "stderr",
     "output_type": "stream",
     "text": [
      "C:\\Users\\urrig\\AppData\\Local\\Temp\\ipykernel_10296\\2591212.py:1: FutureWarning: Passing 'suffixes' which cause duplicate columns {'popularity_x'} in the result is deprecated and will raise a MergeError in a future version.\n",
      "  df_combined = df_combined.merge(Science_Fiction_Year_mean, left_on='release_year', right_on='release_year', how='inner')\n"
     ]
    },
    {
     "data": {
      "text/html": [
       "<div>\n",
       "<style scoped>\n",
       "    .dataframe tbody tr th:only-of-type {\n",
       "        vertical-align: middle;\n",
       "    }\n",
       "\n",
       "    .dataframe tbody tr th {\n",
       "        vertical-align: top;\n",
       "    }\n",
       "\n",
       "    .dataframe thead th {\n",
       "        text-align: right;\n",
       "    }\n",
       "</style>\n",
       "<table border=\"1\" class=\"dataframe\">\n",
       "  <thead>\n",
       "    <tr style=\"text-align: right;\">\n",
       "      <th></th>\n",
       "      <th>release_year</th>\n",
       "      <th>popularity_x</th>\n",
       "      <th>popularity_y</th>\n",
       "      <th>popularity_x</th>\n",
       "      <th>popularity_y</th>\n",
       "      <th>popularity_x</th>\n",
       "      <th>popularity_y</th>\n",
       "      <th>popularity_x</th>\n",
       "      <th>popularity_y</th>\n",
       "      <th>popularity_x</th>\n",
       "      <th>popularity_y</th>\n",
       "    </tr>\n",
       "  </thead>\n",
       "  <tbody>\n",
       "    <tr>\n",
       "      <th>0</th>\n",
       "      <td>1960</td>\n",
       "      <td>0.566305</td>\n",
       "      <td>0.396000</td>\n",
       "      <td>0.811910</td>\n",
       "      <td>0.590724</td>\n",
       "      <td>0.541227</td>\n",
       "      <td>0.591450</td>\n",
       "      <td>0.700981</td>\n",
       "      <td>0.346479</td>\n",
       "      <td>0.278064</td>\n",
       "      <td>0.327905</td>\n",
       "    </tr>\n",
       "    <tr>\n",
       "      <th>1</th>\n",
       "      <td>1962</td>\n",
       "      <td>0.370411</td>\n",
       "      <td>0.273183</td>\n",
       "      <td>0.760582</td>\n",
       "      <td>0.708945</td>\n",
       "      <td>0.251082</td>\n",
       "      <td>0.179368</td>\n",
       "      <td>0.942513</td>\n",
       "      <td>0.472816</td>\n",
       "      <td>0.323463</td>\n",
       "      <td>0.179212</td>\n",
       "    </tr>\n",
       "    <tr>\n",
       "      <th>2</th>\n",
       "      <td>1963</td>\n",
       "      <td>0.322448</td>\n",
       "      <td>0.444481</td>\n",
       "      <td>0.719929</td>\n",
       "      <td>0.951729</td>\n",
       "      <td>0.399573</td>\n",
       "      <td>0.376901</td>\n",
       "      <td>0.728487</td>\n",
       "      <td>0.552368</td>\n",
       "      <td>0.852632</td>\n",
       "      <td>0.467835</td>\n",
       "    </tr>\n",
       "    <tr>\n",
       "      <th>3</th>\n",
       "      <td>1964</td>\n",
       "      <td>0.364819</td>\n",
       "      <td>0.491229</td>\n",
       "      <td>0.622580</td>\n",
       "      <td>0.813087</td>\n",
       "      <td>0.221586</td>\n",
       "      <td>0.189650</td>\n",
       "      <td>0.736431</td>\n",
       "      <td>0.261690</td>\n",
       "      <td>0.878298</td>\n",
       "      <td>0.226636</td>\n",
       "    </tr>\n",
       "    <tr>\n",
       "      <th>4</th>\n",
       "      <td>1965</td>\n",
       "      <td>0.305288</td>\n",
       "      <td>0.358721</td>\n",
       "      <td>0.343072</td>\n",
       "      <td>0.451373</td>\n",
       "      <td>0.622780</td>\n",
       "      <td>0.124838</td>\n",
       "      <td>0.581820</td>\n",
       "      <td>0.387277</td>\n",
       "      <td>0.662713</td>\n",
       "      <td>0.101956</td>\n",
       "    </tr>\n",
       "  </tbody>\n",
       "</table>\n",
       "</div>"
      ],
      "text/plain": [
       "  release_year  popularity_x  popularity_y  popularity_x  popularity_y  \\\n",
       "0         1960      0.566305      0.396000      0.811910      0.590724   \n",
       "1         1962      0.370411      0.273183      0.760582      0.708945   \n",
       "2         1963      0.322448      0.444481      0.719929      0.951729   \n",
       "3         1964      0.364819      0.491229      0.622580      0.813087   \n",
       "4         1965      0.305288      0.358721      0.343072      0.451373   \n",
       "\n",
       "   popularity_x  popularity_y  popularity_x  popularity_y  popularity_x  \\\n",
       "0      0.541227      0.591450      0.700981      0.346479      0.278064   \n",
       "1      0.251082      0.179368      0.942513      0.472816      0.323463   \n",
       "2      0.399573      0.376901      0.728487      0.552368      0.852632   \n",
       "3      0.221586      0.189650      0.736431      0.261690      0.878298   \n",
       "4      0.622780      0.124838      0.581820      0.387277      0.662713   \n",
       "\n",
       "   popularity_y  \n",
       "0      0.327905  \n",
       "1      0.179212  \n",
       "2      0.467835  \n",
       "3      0.226636  \n",
       "4      0.101956  "
      ]
     },
     "execution_count": 169,
     "metadata": {},
     "output_type": "execute_result"
    }
   ],
   "source": [
    "df_combined = df_combined.merge(Science_Fiction_Year_mean, left_on='release_year', right_on='release_year', how='inner')\n",
    "df_combined.head(1)\n"
   ]
  },
  {
   "cell_type": "code",
   "execution_count": 170,
   "metadata": {},
   "outputs": [],
   "source": [
    "df_combined.columns = ['release_year', 'popularity_Drama', 'popularity_Comedy', 'popularity_Thriller', 'popularity_Action', 'popularity_Romance', 'popularity_Horror', 'popularity_Adventure', 'popularity_Crime', 'popularity_Family', 'popularity_Science_Fiction']"
   ]
  },
  {
   "cell_type": "code",
   "execution_count": 171,
   "metadata": {},
   "outputs": [
    {
     "data": {
      "text/html": [
       "<div>\n",
       "<style scoped>\n",
       "    .dataframe tbody tr th:only-of-type {\n",
       "        vertical-align: middle;\n",
       "    }\n",
       "\n",
       "    .dataframe tbody tr th {\n",
       "        vertical-align: top;\n",
       "    }\n",
       "\n",
       "    .dataframe thead th {\n",
       "        text-align: right;\n",
       "    }\n",
       "</style>\n",
       "<table border=\"1\" class=\"dataframe\">\n",
       "  <thead>\n",
       "    <tr style=\"text-align: right;\">\n",
       "      <th></th>\n",
       "      <th>release_year</th>\n",
       "      <th>popularity_Drama</th>\n",
       "      <th>popularity_Comedy</th>\n",
       "      <th>popularity_Thriller</th>\n",
       "      <th>popularity_Action</th>\n",
       "      <th>popularity_Romance</th>\n",
       "      <th>popularity_Horror</th>\n",
       "      <th>popularity_Adventure</th>\n",
       "      <th>popularity_Crime</th>\n",
       "      <th>popularity_Family</th>\n",
       "      <th>popularity_Science_Fiction</th>\n",
       "    </tr>\n",
       "  </thead>\n",
       "  <tbody>\n",
       "    <tr>\n",
       "      <th>0</th>\n",
       "      <td>1960</td>\n",
       "      <td>0.566305</td>\n",
       "      <td>0.396000</td>\n",
       "      <td>0.811910</td>\n",
       "      <td>0.590724</td>\n",
       "      <td>0.541227</td>\n",
       "      <td>0.591450</td>\n",
       "      <td>0.700981</td>\n",
       "      <td>0.346479</td>\n",
       "      <td>0.278064</td>\n",
       "      <td>0.327905</td>\n",
       "    </tr>\n",
       "    <tr>\n",
       "      <th>1</th>\n",
       "      <td>1962</td>\n",
       "      <td>0.370411</td>\n",
       "      <td>0.273183</td>\n",
       "      <td>0.760582</td>\n",
       "      <td>0.708945</td>\n",
       "      <td>0.251082</td>\n",
       "      <td>0.179368</td>\n",
       "      <td>0.942513</td>\n",
       "      <td>0.472816</td>\n",
       "      <td>0.323463</td>\n",
       "      <td>0.179212</td>\n",
       "    </tr>\n",
       "    <tr>\n",
       "      <th>2</th>\n",
       "      <td>1963</td>\n",
       "      <td>0.322448</td>\n",
       "      <td>0.444481</td>\n",
       "      <td>0.719929</td>\n",
       "      <td>0.951729</td>\n",
       "      <td>0.399573</td>\n",
       "      <td>0.376901</td>\n",
       "      <td>0.728487</td>\n",
       "      <td>0.552368</td>\n",
       "      <td>0.852632</td>\n",
       "      <td>0.467835</td>\n",
       "    </tr>\n",
       "    <tr>\n",
       "      <th>3</th>\n",
       "      <td>1964</td>\n",
       "      <td>0.364819</td>\n",
       "      <td>0.491229</td>\n",
       "      <td>0.622580</td>\n",
       "      <td>0.813087</td>\n",
       "      <td>0.221586</td>\n",
       "      <td>0.189650</td>\n",
       "      <td>0.736431</td>\n",
       "      <td>0.261690</td>\n",
       "      <td>0.878298</td>\n",
       "      <td>0.226636</td>\n",
       "    </tr>\n",
       "    <tr>\n",
       "      <th>4</th>\n",
       "      <td>1965</td>\n",
       "      <td>0.305288</td>\n",
       "      <td>0.358721</td>\n",
       "      <td>0.343072</td>\n",
       "      <td>0.451373</td>\n",
       "      <td>0.622780</td>\n",
       "      <td>0.124838</td>\n",
       "      <td>0.581820</td>\n",
       "      <td>0.387277</td>\n",
       "      <td>0.662713</td>\n",
       "      <td>0.101956</td>\n",
       "    </tr>\n",
       "  </tbody>\n",
       "</table>\n",
       "</div>"
      ],
      "text/plain": [
       "  release_year  popularity_Drama  popularity_Comedy  popularity_Thriller  \\\n",
       "0         1960          0.566305           0.396000             0.811910   \n",
       "1         1962          0.370411           0.273183             0.760582   \n",
       "2         1963          0.322448           0.444481             0.719929   \n",
       "3         1964          0.364819           0.491229             0.622580   \n",
       "4         1965          0.305288           0.358721             0.343072   \n",
       "\n",
       "   popularity_Action  popularity_Romance  popularity_Horror  \\\n",
       "0           0.590724            0.541227           0.591450   \n",
       "1           0.708945            0.251082           0.179368   \n",
       "2           0.951729            0.399573           0.376901   \n",
       "3           0.813087            0.221586           0.189650   \n",
       "4           0.451373            0.622780           0.124838   \n",
       "\n",
       "   popularity_Adventure  popularity_Crime  popularity_Family  \\\n",
       "0              0.700981          0.346479           0.278064   \n",
       "1              0.942513          0.472816           0.323463   \n",
       "2              0.728487          0.552368           0.852632   \n",
       "3              0.736431          0.261690           0.878298   \n",
       "4              0.581820          0.387277           0.662713   \n",
       "\n",
       "   popularity_Science_Fiction  \n",
       "0                    0.327905  \n",
       "1                    0.179212  \n",
       "2                    0.467835  \n",
       "3                    0.226636  \n",
       "4                    0.101956  "
      ]
     },
     "execution_count": 171,
     "metadata": {},
     "output_type": "execute_result"
    }
   ],
   "source": [
    "df_combined.head(1)"
   ]
  },
  {
   "cell_type": "code",
   "execution_count": 172,
   "metadata": {},
   "outputs": [
    {
     "data": {
      "text/plain": [
       "<matplotlib.legend.Legend at 0x251e6cb5640>"
      ]
     },
     "execution_count": 172,
     "metadata": {},
     "output_type": "execute_result"
    },
    {
     "data": {
      "image/png": "[encoded data removed]",
      "text/plain": [
       "<Figure size 640x480 with 1 Axes>"
      ]
     },
     "metadata": {},
     "output_type": "display_data"
    }
   ],
   "source": [
    "plt.plot(df_combined['release_year'], df_combined['popularity_Drama'], label = 'Drama')\n",
    "plt.plot(df_combined['release_year'], df_combined['popularity_Comedy'], label = 'Comedy')\n",
    "plt.plot(df_combined['release_year'], df_combined['popularity_Thriller'], label = 'Thriller')\n",
    "plt.plot(df_combined['release_year'], df_combined['popularity_Action'], label = 'Action')\n",
    "plt.plot(df_combined['release_year'], df_combined['popularity_Romance'], label = 'Romance')\n",
    "plt.plot(df_combined['release_year'], df_combined['popularity_Horror'], label = 'Horror')\n",
    "plt.plot(df_combined['release_year'], df_combined['popularity_Adventure'], label = 'Adventure')\n",
    "plt.plot(df_combined['release_year'], df_combined['popularity_Crime'], label = 'Crime')\n",
    "plt.plot(df_combined['release_year'], df_combined['popularity_Family'], label = 'Family')\n",
    "plt.plot(df_combined['release_year'], df_combined['popularity_Science_Fiction'], label = 'Science Fiction')\n",
    "\n",
    "plt.title('Popularity in each genres from 1960 - 2015')\n",
    "plt.xlabel(\"Movie Release Year\")\n",
    "plt.ylabel(\"Popularity\")\n",
    "plt.legend(bbox_to_anchor=(1.05, 1))\n",
    "\n",
    "# We could see the most popular genres changes year by year\n",
    "# Horror never be the most popular genres\n",
    "# Adventure and Science Fiction are popular in many years"
   ]
  },
  {
   "cell_type": "markdown",
   "metadata": {},
   "source": [
    "<a id='conclusions'></a>\n",
    "## Conclusions\n"
   ]
  },
  {
   "cell_type": "markdown",
   "metadata": {
    "collapsed": true
   },
   "source": [
    "# Question 1 (What kinds of properties are associated with movies that have high revenues?)\n",
    "\n",
    "> Higer vote_average would have more chance to get higher revenue, but we can see the movie with highist revenue is not with highist vote_average.\n",
    ">\n",
    "> We can get that audience like movie with vote_average 5-8, but there is no market for the movies with vote_average higher or lower than 5-8.\n",
    ">\n",
    "> Movies with over 1.5 billion revenue is with popularity over 5.\n",
    ">\n",
    "> If the popularity is less 5, there is merely to make revenue over 1 billion.\n",
    ">\n",
    "> Runtime is not the main factor to make higher revenue"
   ]
  },
  {
   "cell_type": "markdown",
   "metadata": {},
   "source": [
    "# Question 2 (Which genres are most popular from year to year?)\n",
    "\n",
    "> The most popular genres changes year by year\n",
    ">\n",
    "> Horror never be the most popular genres\n",
    ">\n",
    "> Adventure and Science Fiction are the most popular in many years"
   ]
  },
  {
   "cell_type": "code",
   "execution_count": null,
   "metadata": {},
   "outputs": [],
   "source": []
  }
 ],
 "metadata": {
  "kernelspec": {
   "display_name": "Python 3 (ipykernel)",
   "language": "python",
   "name": "python3"
  },
  "language_info": {
   "codemirror_mode": {
    "name": "ipython",
    "version": 3
   },
   "file_extension": ".py",
   "mimetype": "text/x-python",
   "name": "python",
   "nbconvert_exporter": "python",
   "pygments_lexer": "ipython3",
   "version": "3.9.16"
  }
 },
 "nbformat": 4,
 "nbformat_minor": 2
}
